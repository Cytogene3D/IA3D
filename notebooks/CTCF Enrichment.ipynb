{
 "cells": [
  {
   "cell_type": "code",
   "execution_count": 1,
   "id": "27ccbe2c",
   "metadata": {},
   "outputs": [
    {
     "name": "stderr",
     "output_type": "stream",
     "text": [
      "Le chargement a nécessité le package : stats4\n",
      "\n",
      "Le chargement a nécessité le package : BiocGenerics\n",
      "\n",
      "\n",
      "Attachement du package : ‘BiocGenerics’\n",
      "\n",
      "\n",
      "Les objets suivants sont masqués depuis ‘package:stats’:\n",
      "\n",
      "    IQR, mad, sd, var, xtabs\n",
      "\n",
      "\n",
      "Les objets suivants sont masqués depuis ‘package:base’:\n",
      "\n",
      "    anyDuplicated, aperm, append, as.data.frame, basename, cbind,\n",
      "    colnames, dirname, do.call, duplicated, eval, evalq, Filter, Find,\n",
      "    get, grep, grepl, intersect, is.unsorted, lapply, Map, mapply,\n",
      "    match, mget, order, paste, pmax, pmax.int, pmin, pmin.int,\n",
      "    Position, rank, rbind, Reduce, rownames, sapply, setdiff, sort,\n",
      "    table, tapply, union, unique, unsplit, which.max, which.min\n",
      "\n",
      "\n",
      "Le chargement a nécessité le package : S4Vectors\n",
      "\n",
      "\n",
      "Attachement du package : ‘S4Vectors’\n",
      "\n",
      "\n",
      "L'objet suivant est masqué depuis ‘package:utils’:\n",
      "\n",
      "    findMatches\n",
      "\n",
      "\n",
      "Les objets suivants sont masqués depuis ‘package:base’:\n",
      "\n",
      "    expand.grid, I, unname\n",
      "\n",
      "\n",
      "Le chargement a nécessité le package : IRanges\n",
      "\n",
      "Le chargement a nécessité le package : GenomeInfoDb\n",
      "\n",
      "\n",
      "Attachement du package : ‘plyranges’\n",
      "\n",
      "\n",
      "L'objet suivant est masqué depuis ‘package:IRanges’:\n",
      "\n",
      "    slice\n",
      "\n",
      "\n",
      "L'objet suivant est masqué depuis ‘package:stats’:\n",
      "\n",
      "    filter\n",
      "\n",
      "\n"
     ]
    }
   ],
   "source": [
    "library(GenomicRanges)\n",
    "library(plyranges)\n",
    "library(ggplot2)\n",
    "library(rtracklayer)\n",
    "library(tibble)\n",
    "library(readr)"
   ]
  },
  {
   "cell_type": "code",
   "execution_count": 2,
   "id": "cb15f6aa",
   "metadata": {},
   "outputs": [],
   "source": [
    "flank_size <- 1e6    # ±1Mb\n",
    "bin_width <- 10000   # bin width for aggregation"
   ]
  },
  {
   "cell_type": "markdown",
   "id": "3fceee79",
   "metadata": {},
   "source": [
    "# CTCF and TAD borders in bovine"
   ]
  },
  {
   "cell_type": "markdown",
   "id": "26d1537d",
   "metadata": {},
   "source": [
    "### The TAD borders"
   ]
  },
  {
   "cell_type": "code",
   "execution_count": 3,
   "id": "c6ccf4c2",
   "metadata": {},
   "outputs": [],
   "source": [
    "tad_path = \"../../CTCF/data/bos_taurus/Bovin-0197.ARS-UCD1.2.mapq_10.10000_norm_custom_boundaries.bed\"\n",
    "tad_borders = import(tad_path)"
   ]
  },
  {
   "cell_type": "code",
   "execution_count": 4,
   "id": "51f71978",
   "metadata": {},
   "outputs": [
    {
     "data": {
      "text/plain": [
       "GRanges object with 6875 ranges and 2 metadata columns:\n",
       "         seqnames              ranges strand |        name     score\n",
       "            <Rle>           <IRanges>  <Rle> | <character> <numeric>\n",
       "     [1]        1       697501-732500      * |      B00046 -0.757498\n",
       "     [2]        1       825001-835000      * |      B00054 -0.725402\n",
       "     [3]        1     1115001-1125000      * |      B00083 -0.514388\n",
       "     [4]        1     1645001-1655000      * |      B00136 -0.918733\n",
       "     [5]        1     1925001-1935000      * |      B00164 -0.342202\n",
       "     ...      ...                 ...    ... .         ...       ...\n",
       "  [6871]        X 134205001-134215000      * |     B253447 -0.395888\n",
       "  [6872]        X 134905001-134915000      * |     B253517 -0.939332\n",
       "  [6873]        X 138255001-138265000      * |     B253842 -1.059216\n",
       "  [6874]        X 138625001-138635000      * |     B253879 -0.172532\n",
       "  [6875]        X 138795001-138805000      * |     B253896 -0.720985\n",
       "  -------\n",
       "  seqinfo: 30 sequences from an unspecified genome; no seqlengths"
      ]
     },
     "metadata": {},
     "output_type": "display_data"
    }
   ],
   "source": [
    "tad_borders"
   ]
  },
  {
   "cell_type": "markdown",
   "id": "f34b698c",
   "metadata": {},
   "source": [
    "### Constructing windows (size 2*flank_size) centered at each TAD border"
   ]
  },
  {
   "cell_type": "code",
   "execution_count": 5,
   "id": "10a3c02f",
   "metadata": {},
   "outputs": [],
   "source": [
    "tad_windows <- tad_borders %>%\n",
    "  anchor_center() %>%\n",
    "  mutate(width = 2 * flank_size)"
   ]
  },
  {
   "cell_type": "code",
   "execution_count": 6,
   "id": "b5260eaf",
   "metadata": {},
   "outputs": [],
   "source": [
    "tad_windows$tad_id <- seq_along(tad_windows)"
   ]
  },
  {
   "cell_type": "code",
   "execution_count": 7,
   "id": "4cb2655c",
   "metadata": {},
   "outputs": [
    {
     "data": {
      "text/plain": [
       "GRanges object with 6875 ranges and 3 metadata columns:\n",
       "         seqnames              ranges strand |        name     score    tad_id\n",
       "            <Rle>           <IRanges>  <Rle> | <character> <numeric> <integer>\n",
       "     [1]        1     -284999-1715000      * |      B00046 -0.757498         1\n",
       "     [2]        1     -169999-1830000      * |      B00054 -0.725402         2\n",
       "     [3]        1      120001-2120000      * |      B00083 -0.514388         3\n",
       "     [4]        1      650001-2650000      * |      B00136 -0.918733         4\n",
       "     [5]        1      930001-2930000      * |      B00164 -0.342202         5\n",
       "     ...      ...                 ...    ... .         ...       ...       ...\n",
       "  [6871]        X 133210001-135210000      * |     B253447 -0.395888      6871\n",
       "  [6872]        X 133910001-135910000      * |     B253517 -0.939332      6872\n",
       "  [6873]        X 137260001-139260000      * |     B253842 -1.059216      6873\n",
       "  [6874]        X 137630001-139630000      * |     B253879 -0.172532      6874\n",
       "  [6875]        X 137800001-139800000      * |     B253896 -0.720985      6875\n",
       "  -------\n",
       "  seqinfo: 30 sequences from an unspecified genome; no seqlengths"
      ]
     },
     "metadata": {},
     "output_type": "display_data"
    }
   ],
   "source": [
    "tad_windows"
   ]
  },
  {
   "cell_type": "markdown",
   "id": "815a6af0",
   "metadata": {},
   "source": [
    "### Tiling the each window with bins of size (bin_width)"
   ]
  },
  {
   "cell_type": "code",
   "execution_count": 8,
   "id": "c6b4c9e8",
   "metadata": {},
   "outputs": [],
   "source": [
    "tad_bins <- tad_windows %>%\n",
    "  tile_ranges(width = bin_width) %>%\n",
    "  mutate(rel_pos = (start + end) / 2 - start(tad_windows)[partition] - flank_size)"
   ]
  },
  {
   "cell_type": "code",
   "execution_count": 9,
   "id": "316cfd49",
   "metadata": {},
   "outputs": [
    {
     "data": {
      "text/plain": [
       "GRanges object with 1375000 ranges and 2 metadata columns:\n",
       "            seqnames              ranges strand | partition   rel_pos\n",
       "               <Rle>           <IRanges>  <Rle> | <integer> <numeric>\n",
       "        [1]        1     -284999--275000      * |         1   -995000\n",
       "        [2]        1     -274999--265000      * |         1   -985000\n",
       "        [3]        1     -264999--255000      * |         1   -975000\n",
       "        [4]        1     -254999--245000      * |         1   -965000\n",
       "        [5]        1     -244999--235000      * |         1   -955000\n",
       "        ...      ...                 ...    ... .       ...       ...\n",
       "  [1374996]        X 139750001-139760000      * |      6875    955000\n",
       "  [1374997]        X 139760001-139770000      * |      6875    965000\n",
       "  [1374998]        X 139770001-139780000      * |      6875    975000\n",
       "  [1374999]        X 139780001-139790000      * |      6875    985000\n",
       "  [1375000]        X 139790001-139800000      * |      6875    995000\n",
       "  -------\n",
       "  seqinfo: 30 sequences from an unspecified genome; no seqlengths"
      ]
     },
     "metadata": {},
     "output_type": "display_data"
    }
   ],
   "source": [
    "tad_bins"
   ]
  },
  {
   "cell_type": "markdown",
   "id": "7dd028f1",
   "metadata": {},
   "source": [
    "### A bed file with the CTCF predictions"
   ]
  },
  {
   "cell_type": "code",
   "execution_count": null,
   "id": "15daf621",
   "metadata": {},
   "outputs": [],
   "source": [
    "ctcf_path=\"../../CTCF/data/bos_taurus/fimo_CTCF.bed\"\n",
    "ctcf_sites=import(ctcf_path)"
   ]
  },
  {
   "cell_type": "markdown",
   "id": "7a434cec",
   "metadata": {},
   "source": [
    "Fo reach TAD bin :\n",
    "  - count the corresponding overlapping CTCF prediction and \n",
    "  - group by TAD and by relative position of the TAB bin to the TAD border\n",
    "  - count the number of CTCF within each (TAB, bin) group\n",
    "  - compute the mean, over all TADs, of CTCF counts for each bin"
   ]
  },
  {
   "cell_type": "code",
   "execution_count": null,
   "id": "7f8d4498",
   "metadata": {},
   "outputs": [],
   "source": [
    "bin_enrichment <- tad_bins %>%\n",
    "  join_overlap_left(ctcf_sites) %>%\n",
    "  group_by(partition, rel_pos) %>%\n",
    "  summarise(ctcf_count = n()) %>%\n",
    "  as_tibble() %>%\n",
    "  group_by(rel_pos) %>%\n",
    "  summarise(mean_ctcf = mean(ctcf_count))"
   ]
  },
  {
   "cell_type": "code",
   "execution_count": 11,
   "id": "513f8fb0",
   "metadata": {},
   "outputs": [
    {
     "name": "stderr",
     "output_type": "stream",
     "text": [
      "\u001b[1mRows: \u001b[22m\u001b[34m200\u001b[39m \u001b[1mColumns: \u001b[22m\u001b[34m2\u001b[39m\n",
      "\u001b[36m──\u001b[39m \u001b[1mColumn specification\u001b[22m \u001b[36m─────────────────────────────────────────────────────────────────────────────────────────────────────────────────────────────────────────────────────────────────────────────────────────\u001b[39m\n",
      "\u001b[1mDelimiter:\u001b[22m \"\\t\"\n",
      "\u001b[32mdbl\u001b[39m (2): rel_pos, mean_ctcf\n",
      "\n",
      "\u001b[36mℹ\u001b[39m Use `spec()` to retrieve the full column specification for this data.\n",
      "\u001b[36mℹ\u001b[39m Specify the column types or set `show_col_types = FALSE` to quiet this message.\n"
     ]
    }
   ],
   "source": [
    "library(readr)\n",
    "#bin_enrichment %>% write_tsv(\"bovine_enrichment.tsv\")\n",
    "bin_enrichment = read_tsv(\"bovine_enrichment.tsv\")"
   ]
  },
  {
   "cell_type": "code",
   "execution_count": 12,
   "id": "07c67606",
   "metadata": {},
   "outputs": [
    {
     "data": {
      "image/png": "[encoded data removed]",
      "text/plain": [
       "plot without title"
      ]
     },
     "metadata": {
      "image/png": {
       "height": 360,
       "width": 600
      }
     },
     "output_type": "display_data"
    }
   ],
   "source": [
    "options(repr.plot.width=10, repr.plot.height=6)\n",
    "ggplot(bin_enrichment, aes(x = rel_pos, y = mean_ctcf)) +\n",
    "  geom_line(color=\"blue\") +\n",
    "  geom_vline(xintercept = 0, linetype = \"dashed\", color = \"red\") +\n",
    "  labs(x = \"Distance from TAD border (bp)\", y = \"Mean CTCF count\") +\n",
    "  theme_minimal()"
   ]
  },
  {
   "cell_type": "markdown",
   "id": "f0eed4b7",
   "metadata": {},
   "source": [
    "## CTCF and TAD borders in human"
   ]
  },
  {
   "cell_type": "code",
   "execution_count": 13,
   "id": "4173dc08",
   "metadata": {},
   "outputs": [],
   "source": [
    "#tad_path = \"../../data/4DNFI9GMP2J8_10kb_TADs_boundaries.bed\"\n",
    "tad_path = \"../../data/tadmap/TAD_boundaries.bed\"\n",
    "tad_borders = import(tad_path)"
   ]
  },
  {
   "cell_type": "code",
   "execution_count": 14,
   "id": "55ac55bb",
   "metadata": {},
   "outputs": [
    {
     "data": {
      "text/plain": [
       "GRanges object with 60682 ranges and 2 metadata columns:\n",
       "          seqnames            ranges strand |        name     score\n",
       "             <Rle>         <IRanges>  <Rle> | <character> <numeric>\n",
       "      [1]     chr1     827751-829250      * |      B00056 -0.179266\n",
       "      [2]     chr1     869501-870500      * |      B00097 -0.119838\n",
       "      [3]     chr1     904501-905500      * |      B00132 -0.265485\n",
       "      [4]     chr1     923501-924500      * |      B00151  0.418674\n",
       "      [5]     chr1     941501-942500      * |      B00169  0.269417\n",
       "      ...      ...               ...    ... .         ...       ...\n",
       "  [60678]     chrY 22288501-22289500      * |    B2759871  0.165453\n",
       "  [60679]     chrY 22308501-22309500      * |    B2759891  0.255591\n",
       "  [60680]     chrY 26639501-26640500      * |    B2760273 -0.165655\n",
       "  [60681]     chrY 56827501-56828500      * |    B2760339 -0.316077\n",
       "  [60682]     chrY 56851501-56852500      * |    B2760363 -0.273736\n",
       "  -------\n",
       "  seqinfo: 24 sequences from an unspecified genome; no seqlengths"
      ]
     },
     "metadata": {},
     "output_type": "display_data"
    }
   ],
   "source": [
    "tad_borders"
   ]
  },
  {
   "cell_type": "code",
   "execution_count": 15,
   "id": "29f369bc",
   "metadata": {},
   "outputs": [],
   "source": [
    "tad_windows <- tad_borders %>%\n",
    "  anchor_center() %>%\n",
    "  mutate(width = 2 * flank_size)"
   ]
  },
  {
   "cell_type": "code",
   "execution_count": 16,
   "id": "a341c694",
   "metadata": {},
   "outputs": [],
   "source": [
    "tad_windows$tad_id <- seq_along(tad_windows)"
   ]
  },
  {
   "cell_type": "code",
   "execution_count": 17,
   "id": "841125db",
   "metadata": {},
   "outputs": [
    {
     "data": {
      "text/plain": [
       "GRanges object with 60682 ranges and 3 metadata columns:\n",
       "          seqnames            ranges strand |        name     score    tad_id\n",
       "             <Rle>         <IRanges>  <Rle> | <character> <numeric> <integer>\n",
       "      [1]     chr1   -171499-1828500      * |      B00056 -0.179266         1\n",
       "      [2]     chr1   -129999-1870000      * |      B00097 -0.119838         2\n",
       "      [3]     chr1    -94999-1905000      * |      B00132 -0.265485         3\n",
       "      [4]     chr1    -75999-1924000      * |      B00151  0.418674         4\n",
       "      [5]     chr1    -57999-1942000      * |      B00169  0.269417         5\n",
       "      ...      ...               ...    ... .         ...       ...       ...\n",
       "  [60678]     chrY 21289001-23289000      * |    B2759871  0.165453     60678\n",
       "  [60679]     chrY 21309001-23309000      * |    B2759891  0.255591     60679\n",
       "  [60680]     chrY 25640001-27640000      * |    B2760273 -0.165655     60680\n",
       "  [60681]     chrY 55828001-57828000      * |    B2760339 -0.316077     60681\n",
       "  [60682]     chrY 55852001-57852000      * |    B2760363 -0.273736     60682\n",
       "  -------\n",
       "  seqinfo: 24 sequences from an unspecified genome; no seqlengths"
      ]
     },
     "metadata": {},
     "output_type": "display_data"
    }
   ],
   "source": [
    "tad_windows"
   ]
  },
  {
   "cell_type": "code",
   "execution_count": 18,
   "id": "f2bcd322",
   "metadata": {},
   "outputs": [],
   "source": [
    "tad_bins <- tad_windows %>%\n",
    "  tile_ranges(width = bin_width) %>%\n",
    "  mutate(rel_pos = (start + end) / 2 - start(tad_windows)[partition] - flank_size)"
   ]
  },
  {
   "cell_type": "code",
   "execution_count": 19,
   "id": "0e3a4a77",
   "metadata": {},
   "outputs": [
    {
     "data": {
      "text/plain": [
       "GRanges object with 12136400 ranges and 2 metadata columns:\n",
       "             seqnames            ranges strand | partition   rel_pos\n",
       "                <Rle>         <IRanges>  <Rle> | <integer> <numeric>\n",
       "         [1]     chr1   -171499--161500      * |         1   -995000\n",
       "         [2]     chr1   -161499--151500      * |         1   -985000\n",
       "         [3]     chr1   -151499--141500      * |         1   -975000\n",
       "         [4]     chr1   -141499--131500      * |         1   -965000\n",
       "         [5]     chr1   -131499--121500      * |         1   -955000\n",
       "         ...      ...               ...    ... .       ...       ...\n",
       "  [12136396]     chrY 57802001-57812000      * |     60682    955000\n",
       "  [12136397]     chrY 57812001-57822000      * |     60682    965000\n",
       "  [12136398]     chrY 57822001-57832000      * |     60682    975000\n",
       "  [12136399]     chrY 57832001-57842000      * |     60682    985000\n",
       "  [12136400]     chrY 57842001-57852000      * |     60682    995000\n",
       "  -------\n",
       "  seqinfo: 24 sequences from an unspecified genome; no seqlengths"
      ]
     },
     "metadata": {},
     "output_type": "display_data"
    }
   ],
   "source": [
    "tad_bins"
   ]
  },
  {
   "cell_type": "code",
   "execution_count": null,
   "id": "312fece4",
   "metadata": {},
   "outputs": [],
   "source": [
    "ctcf_path=\"../../CTCF/data/homo_sapiens/CTCF_hg38_all_reformat.bed\"\n",
    "ctcf_path=\"../../CTCF/data/homo_sapiens/CTCF_hg38_reformat.bed\"\n",
    "ctcf_sites=import(ctcf_path)"
   ]
  },
  {
   "cell_type": "code",
   "execution_count": null,
   "id": "5e665b1f",
   "metadata": {},
   "outputs": [],
   "source": [
    "bin_enrichment <- tad_bins %>%\n",
    "  join_overlap_left(ctcf_sites) %>%\n",
    "  group_by(partition, rel_pos) %>%\n",
    "  summarise(ctcf_count = n()) %>%\n",
    "  as_tibble() %>%\n",
    "  group_by(rel_pos) %>%\n",
    "  summarise(mean_ctcf = mean(ctcf_count))"
   ]
  },
  {
   "cell_type": "code",
   "execution_count": null,
   "id": "eb43b17a",
   "metadata": {},
   "outputs": [],
   "source": [
    "#bin_enrichment %>% write_tsv(\"human_enrichment.tsv\")\n",
    "bin_enrichment = read_tsv(\"human_enrichment.tsv\")"
   ]
  },
  {
   "cell_type": "code",
   "execution_count": null,
   "id": "49a4cfc2",
   "metadata": {},
   "outputs": [],
   "source": [
    "ggplot(bin_enrichment, aes(x = rel_pos, y = mean_ctcf)) +\n",
    "  geom_line(color=\"blue\") +\n",
    "  geom_vline(xintercept = 0, linetype = \"dashed\", color = \"red\") +\n",
    "  ggtitle(\"CTCF enrichment at TAD border in human\" ) +\n",
    "  labs(x = \"Distance from TAD border (bp)\", y = \"Mean CTCF count\") +\n",
    "  theme_minimal()"
   ]
  },
  {
   "cell_type": "code",
   "execution_count": null,
   "id": "8aa6f20e",
   "metadata": {},
   "outputs": [],
   "source": []
  }
 ],
 "metadata": {
  "kernelspec": {
   "display_name": "R",
   "language": "R",
   "name": "ir"
  },
  "language_info": {
   "codemirror_mode": "r",
   "file_extension": ".r",
   "mimetype": "text/x-r-source",
   "name": "R",
   "pygments_lexer": "r",
   "version": "4.3.3"
  }
 },
 "nbformat": 4,
 "nbformat_minor": 5
}
