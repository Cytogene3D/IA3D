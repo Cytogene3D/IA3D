{
 "cells": [
  {
   "cell_type": "code",
   "execution_count": 1,
   "id": "92d2d857",
   "metadata": {},
   "outputs": [],
   "source": [
    "def has_property(obj, prop_name):\n",
    "    \"\"\"Check if obj has a property without calling it.\"\"\"\n",
    "    return prop_name in obj.__class__.__dict__ and isinstance(obj.__class__.__dict__[prop_name], property)\n",
    "\n",
    "\n",
    "def get_attribute(obj, attribute):\n",
    "    if has_property(obj, attribute):\n",
    "        return getattr(obj, attribute)\n",
    "    else:\n",
    "        print(f\"'{attribute}' is not defined in %s\" % type(obj))\n",
    "\n",
    "class MyClass:\n",
    "    def __init__(self):\n",
    "        self.chrom = \"chr9\"\n",
    "    \n",
    "    def get_scores(self, name):\n",
    "        if has_property(self, name):\n",
    "            return getattr(self, name)\n",
    "        else:\n",
    "             print(f\"'{name}' is not a property defined in %s\" % type(obj))\n",
    "        \n",
    "    @property\n",
    "    def insulation(self):\n",
    "        print(\"Here is the call to the function\")\n",
    "        return 5+4"
   ]
  },
  {
   "cell_type": "code",
   "execution_count": 2,
   "id": "8938dde4",
   "metadata": {},
   "outputs": [],
   "source": [
    "obj = MyClass()"
   ]
  },
  {
   "cell_type": "code",
   "execution_count": 3,
   "id": "d99c560b",
   "metadata": {},
   "outputs": [
    {
     "name": "stdout",
     "output_type": "stream",
     "text": [
      "Here is the call to the function\n"
     ]
    },
    {
     "data": {
      "text/plain": [
       "9"
      ]
     },
     "execution_count": 3,
     "metadata": {},
     "output_type": "execute_result"
    }
   ],
   "source": [
    "# Access property attribute\n",
    "obj.insulation"
   ]
  },
  {
   "cell_type": "code",
   "execution_count": 4,
   "id": "6cc6b256",
   "metadata": {},
   "outputs": [
    {
     "name": "stdout",
     "output_type": "stream",
     "text": [
      "Here is the call to the function\n"
     ]
    }
   ],
   "source": [
    "insulations=obj.get_scores(\"insulation\")"
   ]
  },
  {
   "cell_type": "code",
   "execution_count": 5,
   "id": "f5cdda1d",
   "metadata": {},
   "outputs": [
    {
     "data": {
      "text/plain": [
       "9"
      ]
     },
     "execution_count": 5,
     "metadata": {},
     "output_type": "execute_result"
    }
   ],
   "source": [
    "insulations"
   ]
  },
  {
   "cell_type": "code",
   "execution_count": 6,
   "id": "2e236523",
   "metadata": {},
   "outputs": [
    {
     "data": {
      "text/plain": [
       "'chr9'"
      ]
     },
     "execution_count": 6,
     "metadata": {},
     "output_type": "execute_result"
    }
   ],
   "source": [
    "obj.chrom"
   ]
  },
  {
   "cell_type": "code",
   "execution_count": 7,
   "id": "3590ed64",
   "metadata": {},
   "outputs": [
    {
     "name": "stdout",
     "output_type": "stream",
     "text": [
      "'chrom' is not a property defined in <class '__main__.MyClass'>\n"
     ]
    }
   ],
   "source": [
    "essai = obj.get_scores(\"chrom\")"
   ]
  },
  {
   "cell_type": "code",
   "execution_count": null,
   "id": "fa7e69e6",
   "metadata": {},
   "outputs": [],
   "source": []
  }
 ],
 "metadata": {
  "kernelspec": {
   "display_name": "Python 3 (ipykernel)",
   "language": "python",
   "name": "python3"
  },
  "language_info": {
   "codemirror_mode": {
    "name": "ipython",
    "version": 3
   },
   "file_extension": ".py",
   "mimetype": "text/x-python",
   "name": "python",
   "nbconvert_exporter": "python",
   "pygments_lexer": "ipython3",
   "version": "3.7.12"
  }
 },
 "nbformat": 4,
 "nbformat_minor": 5
}
